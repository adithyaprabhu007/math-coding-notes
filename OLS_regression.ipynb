{
  "nbformat": 4,
  "nbformat_minor": 0,
  "metadata": {
    "colab": {
      "provenance": [],
      "authorship_tag": "ABX9TyNu5bQLGdgz/rJr4UZm/U2i",
      "include_colab_link": true
    },
    "kernelspec": {
      "name": "python3",
      "display_name": "Python 3"
    },
    "language_info": {
      "name": "python"
    }
  },
  "cells": [
    {
      "cell_type": "markdown",
      "metadata": {
        "id": "view-in-github",
        "colab_type": "text"
      },
      "source": [
        "<a href=\"https://colab.research.google.com/github/adithyaprabhu007/math-coding-notes/blob/main/OLS_regression.ipynb\" target=\"_parent\"><img src=\"https://colab.research.google.com/assets/colab-badge.svg\" alt=\"Open In Colab\"/></a>"
      ]
    },
    {
      "cell_type": "code",
      "source": [
        "import numpy as np\n",
        "import pandas as pd\n",
        "import matplotlib.pyplot as plt\n",
        "import seaborn as sns\n",
        "from sklearn.model_selection import train_test_split\n",
        "from sklearn.linear_model import LinearRegression\n",
        "from sklearn.metrics import mean_squared_error, r2_score\n",
        "from sklearn.model_selection import cross_val_score\n",
        "from sklearn.preprocessing import StandardScaler\n",
        "\n",
        "# Load the dataset\n",
        "df = pd.read_csv('/content/multiple_linear_regression_dataset.csv')\n",
        "\n",
        "# Display a random sample\n",
        "df.sample()\n",
        "\n",
        "# Shape of the dataset\n",
        "df.shape\n",
        "\n",
        "# Split the data into features (X) and target (y)\n",
        "X = df.drop('income', axis=1)\n",
        "y = df['income']\n",
        "\n",
        "# Split into training and testing sets\n",
        "x_train, x_test, y_train, y_test = train_test_split(X, y, test_size=0.2, random_state=42)\n",
        "\n",
        "# Apply StandardScaler to the training and test sets\n",
        "scr = StandardScaler()\n",
        "x_train = scr.fit_transform(x_train)  # Fit and transform on the training data\n",
        "x_test = scr.transform(x_test)        # Only transform the test data (using training data stats)\n",
        "\n",
        "# Create and fit the linear regression model\n",
        "lr = LinearRegression()\n",
        "lr.fit(x_train, y_train)\n",
        "\n",
        "# Make predictions on the test data\n",
        "y_pred = lr.predict(x_test)\n",
        "\n",
        "# Evaluate the model using R-squared\n",
        "print(\"R-squared score is:\", r2_score(y_test, y_pred))\n",
        "\n",
        "# Perform cross-validation on the training data\n",
        "cv_scores = cross_val_score(lr, x_train, y_train, cv=5, scoring='r2')\n",
        "\n",
        "# Print the cross-validation scores\n",
        "print(\"Cross-validation R-squared scores:\", cv_scores)\n",
        "print(\"Mean R-squared from cross-validation:\", cv_scores.mean())\n",
        "print(\"Standard deviation of R-squared from cross-validation:\", cv_scores.std())\n"
      ],
      "metadata": {
        "colab": {
          "base_uri": "https://localhost:8080/"
        },
        "id": "puHyrIMXnMlX",
        "outputId": "3722000e-db8a-4f82-bf9c-1028adb998e6"
      },
      "execution_count": 35,
      "outputs": [
        {
          "output_type": "stream",
          "name": "stdout",
          "text": [
            "r2 score is  0.9387098237077885\n"
          ]
        },
        {
          "output_type": "execute_result",
          "data": {
            "text/plain": [
              "array([0.9268533 , 0.84713119, 0.94192122, 0.96508498, 0.9846543 ])"
            ]
          },
          "metadata": {},
          "execution_count": 35
        }
      ]
    }
  ]
}