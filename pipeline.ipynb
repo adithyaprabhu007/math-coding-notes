{
  "nbformat": 4,
  "nbformat_minor": 0,
  "metadata": {
    "colab": {
      "provenance": [],
      "authorship_tag": "ABX9TyMnciFfiQlMZqhuMMSUswd0",
      "include_colab_link": true
    },
    "kernelspec": {
      "name": "python3",
      "display_name": "Python 3"
    },
    "language_info": {
      "name": "python"
    }
  },
  "cells": [
    {
      "cell_type": "markdown",
      "metadata": {
        "id": "view-in-github",
        "colab_type": "text"
      },
      "source": [
        "<a href=\"https://colab.research.google.com/github/adithyaprabhu007/math-coding-notes/blob/main/pipeline.ipynb\" target=\"_parent\"><img src=\"https://colab.research.google.com/assets/colab-badge.svg\" alt=\"Open In Colab\"/></a>"
      ]
    },
    {
      "cell_type": "code",
      "source": [
        " # -------------------------\n",
        "# 1. IMPORTS\n",
        "# -------------------------\n",
        "import pandas as pd\n",
        "import numpy as np\n",
        "from sklearn.model_selection import train_test_split\n",
        "from sklearn.impute import SimpleImputer\n",
        "from sklearn.preprocessing import StandardScaler, OneHotEncoder\n",
        "from sklearn.compose import ColumnTransformer\n",
        "from sklearn.pipeline import Pipeline\n",
        "from sklearn.feature_selection import SelectKBest, chi2\n",
        "from sklearn.tree import DecisionTreeClassifier\n",
        "from sklearn.metrics import accuracy_score, confusion_matrix, classification_report\n",
        "\n",
        "# -------------------------\n",
        "# 2. LOAD DATA\n",
        "# -------------------------\n",
        "df = pd.read_csv('/content/Titanic-Dataset.csv')\n",
        "df.drop(['PassengerId','Name','Ticket','Cabin'], axis=1, inplace=True)\n",
        "\n",
        "# -------------------------\n",
        "# 3. SPLIT DATA\n",
        "# -------------------------\n",
        "X = df.drop('Survived', axis=1)\n",
        "y = df['Survived']\n",
        "\n",
        "x_train, x_test, y_train, y_test = train_test_split(X, y, test_size=0.2, random_state=42)\n",
        "\n",
        "# -------------------------\n",
        "# 4. BUILD SEPARATE TRANSFORMERS\n",
        "# -------------------------\n",
        "# Pipeline for Age\n",
        "from sklearn.preprocessing import MinMaxScaler\n",
        "\n",
        "age_pipeline = Pipeline([\n",
        "    ('imputer', SimpleImputer(strategy='mean')),\n",
        "    ('scaler', MinMaxScaler())\n",
        "])\n",
        "\n",
        "fare_pipeline = Pipeline([\n",
        "    ('imputer', SimpleImputer(strategy='mean')),\n",
        "    ('scaler', MinMaxScaler())\n",
        "])\n",
        "\n",
        "# Pipeline for Sex\n",
        "sex_pipeline = Pipeline([\n",
        "    ('imputer', SimpleImputer(strategy='most_frequent')),\n",
        "    ('ohe', OneHotEncoder(sparse_output=False, drop='first'))\n",
        "])\n",
        "\n",
        "# Pipeline for Embarked\n",
        "embarked_pipeline = Pipeline([\n",
        "    ('imputer', SimpleImputer(strategy='most_frequent')),\n",
        "    ('ohe', OneHotEncoder(sparse_output=False, drop='first'))\n",
        "])\n",
        "\n",
        "# -------------------------\n",
        "# 5. MERGE INTO COLUMNTRANSFORMER\n",
        "# -------------------------\n",
        "preprocessor = ColumnTransformer([\n",
        "    ('age', age_pipeline, ['Age']),\n",
        "    ('fare', fare_pipeline, ['Fare']),\n",
        "    ('sex', sex_pipeline, ['Sex']),\n",
        "    ('embarked', embarked_pipeline, ['Embarked'])\n",
        "], remainder='passthrough')  # keep Pclass, SibSp, Parch\n",
        "\n",
        "# -------------------------\n",
        "# 6. FULL PIPELINE\n",
        "# -------------------------\n",
        "pipe = Pipeline([\n",
        "    ('preprocessing', preprocessor),\n",
        "    ('select', SelectKBest(score_func=chi2, k=5)),\n",
        "    ('clf', DecisionTreeClassifier(random_state=42))\n",
        "])\n",
        "\n",
        "# -------------------------\n",
        "# 7. FIT & PREDICT\n",
        "# -------------------------\n",
        "pipe.fit(x_train, y_train)\n",
        "y_pred = pipe.predict(x_test)\n",
        "\n",
        "# -------------------------\n",
        "# 8. EVALUATE\n",
        "# -------------------------\n",
        "print(\"✅ Accuracy:\", accuracy_score(y_test, y_pred))\n",
        "print(\"\\n✅ Confusion Matrix:\\n\", confusion_matrix(y_test, y_pred))\n",
        "print(\"\\n✅ Classification Report:\\n\", classification_report(y_test, y_pred))\n"
      ],
      "metadata": {
        "colab": {
          "base_uri": "https://localhost:8080/"
        },
        "id": "Ek_vSrF7Xx6k",
        "outputId": "3f51747f-cc5e-41d6-956e-618c54db3a31"
      },
      "execution_count": null,
      "outputs": [
        {
          "output_type": "stream",
          "name": "stdout",
          "text": [
            "✅ Accuracy: 0.7877094972067039\n",
            "\n",
            "✅ Confusion Matrix:\n",
            " [[91 14]\n",
            " [24 50]]\n",
            "\n",
            "✅ Classification Report:\n",
            "               precision    recall  f1-score   support\n",
            "\n",
            "           0       0.79      0.87      0.83       105\n",
            "           1       0.78      0.68      0.72        74\n",
            "\n",
            "    accuracy                           0.79       179\n",
            "   macro avg       0.79      0.77      0.78       179\n",
            "weighted avg       0.79      0.79      0.78       179\n",
            "\n"
          ]
        }
      ]
    },
    {
      "cell_type": "code",
      "source": [
        "from google.colab import drive\n",
        "drive.mount('/content/drive')"
      ],
      "metadata": {
        "id": "puHyrIMXnMlX"
      },
      "execution_count": null,
      "outputs": []
    }
  ]
}