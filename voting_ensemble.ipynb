{
  "nbformat": 4,
  "nbformat_minor": 0,
  "metadata": {
    "colab": {
      "provenance": [],
      "authorship_tag": "ABX9TyPZOL1MZk4JJdwQs5xCW1X5",
      "include_colab_link": true
    },
    "kernelspec": {
      "name": "python3",
      "display_name": "Python 3"
    },
    "language_info": {
      "name": "python"
    }
  },
  "cells": [
    {
      "cell_type": "markdown",
      "metadata": {
        "id": "view-in-github",
        "colab_type": "text"
      },
      "source": [
        "<a href=\"https://colab.research.google.com/github/adithyaprabhu007/math-coding-notes/blob/main/voting_ensemble.ipynb\" target=\"_parent\"><img src=\"https://colab.research.google.com/assets/colab-badge.svg\" alt=\"Open In Colab\"/></a>"
      ]
    },
    {
      "cell_type": "code",
      "source": [
        "from sklearn.datasets import load_iris\n",
        "from sklearn.model_selection import train_test_split\n",
        "from sklearn.ensemble import VotingClassifier\n",
        "from sklearn.linear_model import LogisticRegression\n",
        "from sklearn.tree import DecisionTreeClassifier\n",
        "from sklearn.svm import SVC\n",
        "from sklearn.metrics import accuracy_score\n",
        "\n",
        "# --- Load data ---\n",
        "iris = load_iris()\n",
        "X = iris.data\n",
        "y = iris.target\n",
        "\n",
        "# Split data\n",
        "X_train, X_test, y_train, y_test = train_test_split(X, y, test_size=0.3, random_state=42)\n",
        "\n",
        "# --- Create base models ---\n",
        "clf1 = LogisticRegression(max_iter=1000, random_state=42)\n",
        "clf2 = DecisionTreeClassifier(max_depth=4, random_state=42)\n",
        "clf3 = SVC(probability=True, random_state=42)  # needed for soft voting\n",
        "\n",
        "# --- Voting Classifier ---\n",
        "# Hard Voting (majority vote)\n",
        "voting_hard = VotingClassifier(\n",
        "    estimators=[('lr', clf1), ('dt', clf2), ('svc', clf3)],\n",
        "    voting='hard'\n",
        ")\n",
        "\n",
        "# Soft Voting (average of probabilities)\n",
        "voting_soft = VotingClassifier(\n",
        "    estimators=[('lr', clf1), ('dt', clf2), ('svc', clf3)],\n",
        "    voting='soft'\n",
        ")\n",
        "\n",
        "# Train and evaluate both\n",
        "for clf, label in zip([voting_hard, voting_soft], ['Hard Voting', 'Soft Voting']):\n",
        "    clf.fit(X_train, y_train)\n",
        "    y_pred = clf.predict(X_test)\n",
        "    print(f\"{label} Accuracy: {accuracy_score(y_test, y_pred):.2f}\")\n"
      ],
      "metadata": {
        "colab": {
          "base_uri": "https://localhost:8080/"
        },
        "id": "cSRcn1uLHICw",
        "outputId": "6af8f46c-8e8d-4946-9fbf-ba61a8b91e08"
      },
      "execution_count": 2,
      "outputs": [
        {
          "output_type": "stream",
          "name": "stdout",
          "text": [
            "Hard Voting Accuracy: 1.00\n",
            "Soft Voting Accuracy: 1.00\n"
          ]
        }
      ]
    }
  ]
}