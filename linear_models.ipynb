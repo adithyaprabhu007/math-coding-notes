{
  "nbformat": 4,
  "nbformat_minor": 0,
  "metadata": {
    "colab": {
      "provenance": [],
      "authorship_tag": "ABX9TyPv95Gh0Pddcd0voidCiB0b",
      "include_colab_link": true
    },
    "kernelspec": {
      "name": "python3",
      "display_name": "Python 3"
    },
    "language_info": {
      "name": "python"
    }
  },
  "cells": [
    {
      "cell_type": "markdown",
      "metadata": {
        "id": "view-in-github",
        "colab_type": "text"
      },
      "source": [
        "<a href=\"https://colab.research.google.com/github/adithyaprabhu007/math-coding-notes/blob/main/linear_models.ipynb\" target=\"_parent\"><img src=\"https://colab.research.google.com/assets/colab-badge.svg\" alt=\"Open In Colab\"/></a>"
      ]
    },
    {
      "cell_type": "code",
      "source": [
        "from sklearn.linear_model import LinearRegression, Ridge, Lasso, SGDRegressor\n",
        "from sklearn.preprocessing import StandardScaler, PolynomialFeatures\n",
        "from sklearn.metrics import mean_squared_error, r2_score\n",
        "from sklearn.model_selection import train_test_split\n",
        "from sklearn.pipeline import make_pipeline\n",
        "\n",
        "import numpy as np\n",
        "\n",
        "# 🎯 Generate synthetic nonlinear data\n",
        "np.random.seed(42)\n",
        "X = np.random.rand(200, 1) * 2 - 1  # values between -1 and 1\n",
        "y = 3 * X[:, 0]**3 - 2 * X[:, 0]**2 + X[:, 0] + np.random.normal(0, 0.1, size=200)\n",
        "\n",
        "# Split data\n",
        "X_train, X_test, y_train, y_test = train_test_split(X, y, random_state=42)\n",
        "\n",
        "# --------------------------\n",
        "# OLS\n",
        "ols = LinearRegression().fit(X_train, y_train)\n",
        "y_pred_ols = ols.predict(X_test)\n",
        "print(\"OLS MSE:\", mean_squared_error(y_test, y_pred_ols))\n",
        "print(\"OLS R2 :\", r2_score(y_test, y_pred_ols))\n",
        "print()\n",
        "\n",
        "# --------------------------\n",
        "# Ridge\n",
        "ridge_pipe = make_pipeline(StandardScaler(), Ridge(alpha=1.0))\n",
        "ridge_pipe.fit(X_train, y_train)\n",
        "y_pred_ridge = ridge_pipe.predict(X_test)\n",
        "print(\"Ridge MSE:\", mean_squared_error(y_test, y_pred_ridge))\n",
        "print(\"Ridge R2 :\", r2_score(y_test, y_pred_ridge))\n",
        "print()\n",
        "\n",
        "# --------------------------\n",
        "# Lasso\n",
        "lasso_pipe = make_pipeline(StandardScaler(), Lasso(alpha=0.01, max_iter=10000))\n",
        "lasso_pipe.fit(X_train, y_train)\n",
        "y_pred_lasso = lasso_pipe.predict(X_test)\n",
        "print(\"Lasso MSE:\", mean_squared_error(y_test, y_pred_lasso))\n",
        "print(\"Lasso R2 :\", r2_score(y_test, y_pred_lasso))\n",
        "print()\n",
        "\n",
        "# --------------------------\n",
        "# SGD\n",
        "sgd_pipe = make_pipeline(StandardScaler(), SGDRegressor(penalty='l2', alpha=0.01, max_iter=1000, tol=1e-3, random_state=42))\n",
        "sgd_pipe.fit(X_train, y_train)\n",
        "y_pred_sgd = sgd_pipe.predict(X_test)\n",
        "print(\"SGD MSE:\", mean_squared_error(y_test, y_pred_sgd))\n",
        "print(\"SGD R2 :\", r2_score(y_test, y_pred_sgd))\n",
        "print()\n",
        "\n",
        "# --------------------------\n",
        "# Polynomial + Ridge\n",
        "poly_ridge_pipe = make_pipeline(\n",
        "    StandardScaler(),\n",
        "    PolynomialFeatures(degree=3),\n",
        "    Ridge(alpha=1.0)\n",
        ")\n",
        "poly_ridge_pipe.fit(X_train, y_train)\n",
        "y_pred_poly = poly_ridge_pipe.predict(X_test)\n",
        "print(\"Poly Ridge MSE:\", mean_squared_error(y_test, y_pred_poly))\n",
        "print(\"Poly Ridge R2 :\", r2_score(y_test, y_pred_poly))\n",
        "print()\n",
        "\n",
        "# Polynomial + lasso\n",
        "poly_ridge_pipe = make_pipeline(\n",
        "    StandardScaler(),\n",
        "    PolynomialFeatures(degree=3),\n",
        "    Lasso(alpha=0.01, max_iter=10000)\n",
        ")\n",
        "poly_ridge_pipe.fit(X_train, y_train)\n",
        "y_pred_poly = poly_ridge_pipe.predict(X_test)\n",
        "print(\"Poly lasso MSE:\", mean_squared_error(y_test, y_pred_poly))\n",
        "print(\"Poly lasso R2 :\", r2_score(y_test, y_pred_poly))\n",
        "print()\n"
      ],
      "metadata": {
        "colab": {
          "base_uri": "https://localhost:8080/"
        },
        "id": "mSJzfFeLdJ9G",
        "outputId": "20a50fd7-b270-4d34-b86b-8268426fac58"
      },
      "execution_count": 7,
      "outputs": [
        {
          "output_type": "stream",
          "name": "stdout",
          "text": [
            "OLS MSE: 0.5763029571364467\n",
            "OLS R2 : 0.8155184408215672\n",
            "\n",
            "Ridge MSE: 0.5758011096778265\n",
            "Ridge R2 : 0.8156790882735533\n",
            "\n",
            "Lasso MSE: 0.5758370987692849\n",
            "Lasso R2 : 0.8156675677293266\n",
            "\n",
            "SGD MSE: 0.5754815803122046\n",
            "SGD R2 : 0.815781373494969\n",
            "\n",
            "Poly Ridge MSE: 0.009716576448519018\n",
            "Poly Ridge R2 : 0.9968896061508933\n",
            "\n",
            "Poly lasso MSE: 0.009486103393131317\n",
            "Poly lasso R2 : 0.9969633833683794\n",
            "\n"
          ]
        }
      ]
    }
  ]
}