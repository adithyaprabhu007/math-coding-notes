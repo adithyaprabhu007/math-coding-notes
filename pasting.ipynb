{
  "nbformat": 4,
  "nbformat_minor": 0,
  "metadata": {
    "colab": {
      "provenance": [],
      "authorship_tag": "ABX9TyMPPobDV7x9MUYUSEzswN9i",
      "include_colab_link": true
    },
    "kernelspec": {
      "name": "python3",
      "display_name": "Python 3"
    },
    "language_info": {
      "name": "python"
    }
  },
  "cells": [
    {
      "cell_type": "markdown",
      "metadata": {
        "id": "view-in-github",
        "colab_type": "text"
      },
      "source": [
        "<a href=\"https://colab.research.google.com/github/adithyaprabhu007/math-coding-notes/blob/main/pasting.ipynb\" target=\"_parent\"><img src=\"https://colab.research.google.com/assets/colab-badge.svg\" alt=\"Open In Colab\"/></a>"
      ]
    },
    {
      "cell_type": "code",
      "source": [
        "from sklearn.ensemble import BaggingClassifier\n",
        "from sklearn.tree import DecisionTreeClassifier\n",
        "from sklearn.datasets import load_iris\n",
        "from sklearn.model_selection import train_test_split\n",
        "\n",
        "X, y = load_iris(return_X_y=True)\n",
        "X_train, X_test, y_train, y_test = train_test_split(X, y, random_state=42)\n",
        "\n",
        "# Bagging with replacement (default)\n",
        "bagging1 = BaggingClassifier(\n",
        "    estimator=DecisionTreeClassifier(),\n",
        "    n_estimators=10,\n",
        "    bootstrap=True  # <- WITH replacement\n",
        ")\n",
        "bagging1.fit(X_train, y_train)\n",
        "print(\"Accuracy (bagging):\", bagging1.score(X_test, y_test))\n",
        "\n",
        "bagging2 = BaggingClassifier(\n",
        "    estimator=DecisionTreeClassifier(),\n",
        "    n_estimators=10,\n",
        "    bootstrap=False  # <- WITH replacement\n",
        ")\n",
        "bagging2.fit(X_train, y_train)\n",
        "print(\"Accuracy (bagging):\", bagging2.score(X_test, y_test))\n",
        "\n"
      ],
      "metadata": {
        "colab": {
          "base_uri": "https://localhost:8080/"
        },
        "id": "1OmqbFfKIk_3",
        "outputId": "fd9eb92e-89a3-4081-dcb8-b9d06997f5f7"
      },
      "execution_count": 4,
      "outputs": [
        {
          "output_type": "stream",
          "name": "stdout",
          "text": [
            "Accuracy (bagging): 1.0\n",
            "Accuracy (bagging): 1.0\n"
          ]
        }
      ]
    }
  ]
}